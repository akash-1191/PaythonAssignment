{
 "cells": [
  {
   "cell_type": "code",
   "execution_count": 1,
   "id": "9d286df8-e93d-47e6-bc81-dd823f052add",
   "metadata": {},
   "outputs": [
    {
     "name": "stdout",
     "output_type": "stream",
     "text": [
      "Innova added to showroom.\n",
      "City added to showroom.\n",
      "Nexon added to showroom.\n",
      "\n",
      "----- Car Showroom Menu -----\n",
      "1. View Available Cars\n",
      "2. Display Car Details\n",
      "3. Sell a Car\n",
      "4. Buy a Car\n",
      "5. Exit\n"
     ]
    },
    {
     "name": "stdin",
     "output_type": "stream",
     "text": [
      "Enter your choice:  1\n"
     ]
    },
    {
     "name": "stdout",
     "output_type": "stream",
     "text": [
      "\n",
      "Available Cars:\n",
      "- Innova\n",
      "- City\n",
      "- Nexon\n",
      "\n",
      "----- Car Showroom Menu -----\n",
      "1. View Available Cars\n",
      "2. Display Car Details\n",
      "3. Sell a Car\n",
      "4. Buy a Car\n",
      "5. Exit\n"
     ]
    },
    {
     "name": "stdin",
     "output_type": "stream",
     "text": [
      "Enter your choice:  2\n",
      "Enter model name:  Innova\n",
      "Enter your salary:  50000\n"
     ]
    },
    {
     "name": "stdout",
     "output_type": "stream",
     "text": [
      "Access Denied: Salary too low to view car details.\n",
      "\n",
      "----- Car Showroom Menu -----\n",
      "1. View Available Cars\n",
      "2. Display Car Details\n",
      "3. Sell a Car\n",
      "4. Buy a Car\n",
      "5. Exit\n"
     ]
    },
    {
     "name": "stdin",
     "output_type": "stream",
     "text": [
      "Enter your choice:  3\n",
      "Enter model name to sell:  Nexon\n"
     ]
    },
    {
     "name": "stdout",
     "output_type": "stream",
     "text": [
      "Nexon sold and removed from showroom.\n",
      "\n",
      "----- Car Showroom Menu -----\n",
      "1. View Available Cars\n",
      "2. Display Car Details\n",
      "3. Sell a Car\n",
      "4. Buy a Car\n",
      "5. Exit\n"
     ]
    },
    {
     "name": "stdin",
     "output_type": "stream",
     "text": [
      "Enter your choice:  1\n"
     ]
    },
    {
     "name": "stdout",
     "output_type": "stream",
     "text": [
      "\n",
      "Available Cars:\n",
      "- Innova\n",
      "- City\n",
      "\n",
      "----- Car Showroom Menu -----\n",
      "1. View Available Cars\n",
      "2. Display Car Details\n",
      "3. Sell a Car\n",
      "4. Buy a Car\n",
      "5. Exit\n"
     ]
    },
    {
     "name": "stdin",
     "output_type": "stream",
     "text": [
      "Enter your choice:  4\n",
      "Enter brand:  TATA\n",
      "Enter model:  Curvv\n",
      "Enter price:  5000000\n",
      "Enter fuel type:  no\n",
      "Enter transmission:  xyz\n",
      "Enter color:  black\n"
     ]
    },
    {
     "name": "stdout",
     "output_type": "stream",
     "text": [
      "Curvv added to showroom.\n",
      "\n",
      "----- Car Showroom Menu -----\n",
      "1. View Available Cars\n",
      "2. Display Car Details\n",
      "3. Sell a Car\n",
      "4. Buy a Car\n",
      "5. Exit\n"
     ]
    },
    {
     "name": "stdin",
     "output_type": "stream",
     "text": [
      "Enter your choice:  1\n"
     ]
    },
    {
     "name": "stdout",
     "output_type": "stream",
     "text": [
      "\n",
      "Available Cars:\n",
      "- Innova\n",
      "- City\n",
      "- Curvv\n",
      "\n",
      "----- Car Showroom Menu -----\n",
      "1. View Available Cars\n",
      "2. Display Car Details\n",
      "3. Sell a Car\n",
      "4. Buy a Car\n",
      "5. Exit\n"
     ]
    },
    {
     "name": "stdin",
     "output_type": "stream",
     "text": [
      "Enter your choice:  5\n"
     ]
    },
    {
     "name": "stdout",
     "output_type": "stream",
     "text": [
      "Exiting Showroom System. Thank you!\n"
     ]
    }
   ],
   "source": [
    "# Custom Exception for Salary Restriction\n",
    "class SalaryTooLowException(Exception):\n",
    "    def __init__(self, message=\"Salary too low to view car details.\"):\n",
    "        super().__init__(message)\n",
    "\n",
    "\n",
    "# Car Class (Encapsulation)\n",
    "class Car:\n",
    "    def __init__(self, brand, model, price, fuel_type, transmission, color):\n",
    "        self.__brand = brand\n",
    "        self.__model = model\n",
    "        self.__price = price\n",
    "        self.__fuel_type = fuel_type\n",
    "        self.__transmission = transmission\n",
    "        self.__color = color\n",
    "\n",
    "    def get_model(self):\n",
    "        return self.__model\n",
    "\n",
    "    def display_details(self, salary):\n",
    "        if salary < 100000:   # Salary-based access control\n",
    "            raise SalaryTooLowException()\n",
    "        return (f\"Brand: {self.__brand}, Model: {self.__model}, Price: ₹{self.__price}, \"\n",
    "                f\"Fuel: {self.__fuel_type}, Transmission: {self.__transmission}, Color: {self.__color}\")\n",
    "\n",
    "\n",
    "# Showroom Class (Inheritance used later if needed)\n",
    "class Showroom:\n",
    "    def __init__(self):\n",
    "        self.inventory = []   # Store Car objects\n",
    "\n",
    "    def add_car(self, car):\n",
    "        self.inventory.append(car)\n",
    "        print(f\"{car.get_model()} added to showroom.\")\n",
    "\n",
    "    def remove_car(self, model):\n",
    "        for car in self.inventory:\n",
    "            if car.get_model().lower() == model.lower():\n",
    "                self.inventory.remove(car)\n",
    "                print(f\"{model} sold and removed from showroom.\")\n",
    "                return\n",
    "        print(\"Car not found in inventory!\")\n",
    "\n",
    "    def view_available_cars(self):\n",
    "        if not self.inventory:\n",
    "            print(\"No cars available in showroom.\")\n",
    "        else:\n",
    "            print(\"\\nAvailable Cars:\")\n",
    "            for car in self.inventory:\n",
    "                print(f\"- {car.get_model()}\")\n",
    "\n",
    "    def display_car_details(self, model, salary):\n",
    "        for car in self.inventory:\n",
    "            if car.get_model().lower() == model.lower():\n",
    "                try:\n",
    "                    print(car.display_details(salary))\n",
    "                except SalaryTooLowException as e:\n",
    "                    print(f\"Access Denied: {e}\")\n",
    "                return\n",
    "        print(\"Car not found in showroom!\")\n",
    "\n",
    "\n",
    "# ---------------- MAIN PROGRAM ----------------\n",
    "def main():\n",
    "    showroom = Showroom()\n",
    "\n",
    "    # Pre-loaded cars\n",
    "    showroom.add_car(Car(\"Toyota\", \"Innova\", 1500000, \"Diesel\", \"Manual\", \"White\"))\n",
    "    showroom.add_car(Car(\"Honda\", \"City\", 1200000, \"Petrol\", \"Automatic\", \"Black\"))\n",
    "    showroom.add_car(Car(\"Tata\", \"Nexon\", 900000, \"Petrol\", \"Manual\", \"Blue\"))\n",
    "\n",
    "    while True:\n",
    "        print(\"\\n----- Car Showroom Menu -----\")\n",
    "        print(\"1. View Available Cars\")\n",
    "        print(\"2. Display Car Details\")\n",
    "        print(\"3. Sell a Car\")\n",
    "        print(\"4. Buy a Car\")\n",
    "        print(\"5. Exit\")\n",
    "\n",
    "        choice = input(\"Enter your choice: \")\n",
    "\n",
    "        if choice == \"1\":\n",
    "            showroom.view_available_cars()\n",
    "\n",
    "        elif choice == \"2\":\n",
    "            model = input(\"Enter model name: \")\n",
    "            salary = int(input(\"Enter your salary: \"))\n",
    "            showroom.display_car_details(model, salary)\n",
    "\n",
    "        elif choice == \"3\":\n",
    "            model = input(\"Enter model name to sell: \")\n",
    "            showroom.remove_car(model)\n",
    "\n",
    "        elif choice == \"4\":\n",
    "            brand = input(\"Enter brand: \")\n",
    "            model = input(\"Enter model: \")\n",
    "            price = int(input(\"Enter price: \"))\n",
    "            fuel = input(\"Enter fuel type: \")\n",
    "            transmission = input(\"Enter transmission: \")\n",
    "            color = input(\"Enter color: \")\n",
    "            showroom.add_car(Car(brand, model, price, fuel, transmission, color))\n",
    "\n",
    "        elif choice == \"5\":\n",
    "            print(\"Exiting Showroom System. Thank you!\")\n",
    "            break\n",
    "        else:\n",
    "            print(\"Invalid choice. Please try again.\")\n",
    "\n",
    "\n",
    "# Run program\n",
    "if __name__ == \"__main__\":\n",
    "    main()\n"
   ]
  },
  {
   "cell_type": "code",
   "execution_count": null,
   "id": "64f34c7e-6229-4c94-8865-d0fea0bf740b",
   "metadata": {},
   "outputs": [],
   "source": []
  }
 ],
 "metadata": {
  "kernelspec": {
   "display_name": "Python [conda env:base] *",
   "language": "python",
   "name": "conda-base-py"
  },
  "language_info": {
   "codemirror_mode": {
    "name": "ipython",
    "version": 3
   },
   "file_extension": ".py",
   "mimetype": "text/x-python",
   "name": "python",
   "nbconvert_exporter": "python",
   "pygments_lexer": "ipython3",
   "version": "3.13.5"
  }
 },
 "nbformat": 4,
 "nbformat_minor": 5
}
